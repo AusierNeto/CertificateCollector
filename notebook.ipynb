{
 "cells": [
  {
   "cell_type": "code",
   "execution_count": 55,
   "metadata": {},
   "outputs": [],
   "source": [
    "import pyautogui\n",
    "\n",
    "from poc import start\n",
    "from selenium.webdriver.common.by import By"
   ]
  },
  {
   "cell_type": "code",
   "execution_count": null,
   "metadata": {},
   "outputs": [],
   "source": []
  },
  {
   "cell_type": "code",
   "execution_count": 56,
   "metadata": {},
   "outputs": [],
   "source": [
    "driver = start()"
   ]
  },
  {
   "cell_type": "code",
   "execution_count": 50,
   "metadata": {},
   "outputs": [],
   "source": [
    "courses_list = driver.find_elements(By.CLASS_NAME, \"map-superblock-link\")"
   ]
  },
  {
   "cell_type": "code",
   "execution_count": 5,
   "metadata": {},
   "outputs": [],
   "source": [
    "# for course in courses_list:\n",
    "#     course.click()\n",
    "#     print(\"makeRoutine\")"
   ]
  },
  {
   "cell_type": "code",
   "execution_count": 52,
   "metadata": {},
   "outputs": [],
   "source": [
    "courses_list[0].click()"
   ]
  },
  {
   "cell_type": "code",
   "execution_count": 53,
   "metadata": {},
   "outputs": [
    {
     "name": "stdout",
     "output_type": "stream",
     "text": [
      "[<selenium.webdriver.remote.webelement.WebElement (session=\"b5e7ab72423d1b033c6510837306f028\", element=\"f.3532675A1D7777062756688F0A42B5B1.d.DC2FCF7D4EC1247FFE77B48CFD064DA7.e.33\")>, <selenium.webdriver.remote.webelement.WebElement (session=\"b5e7ab72423d1b033c6510837306f028\", element=\"f.3532675A1D7777062756688F0A42B5B1.d.DC2FCF7D4EC1247FFE77B48CFD064DA7.e.34\")>, <selenium.webdriver.remote.webelement.WebElement (session=\"b5e7ab72423d1b033c6510837306f028\", element=\"f.3532675A1D7777062756688F0A42B5B1.d.DC2FCF7D4EC1247FFE77B48CFD064DA7.e.35\")>, <selenium.webdriver.remote.webelement.WebElement (session=\"b5e7ab72423d1b033c6510837306f028\", element=\"f.3532675A1D7777062756688F0A42B5B1.d.DC2FCF7D4EC1247FFE77B48CFD064DA7.e.36\")>, <selenium.webdriver.remote.webelement.WebElement (session=\"b5e7ab72423d1b033c6510837306f028\", element=\"f.3532675A1D7777062756688F0A42B5B1.d.DC2FCF7D4EC1247FFE77B48CFD064DA7.e.37\")>, <selenium.webdriver.remote.webelement.WebElement (session=\"b5e7ab72423d1b033c6510837306f028\", element=\"f.3532675A1D7777062756688F0A42B5B1.d.DC2FCF7D4EC1247FFE77B48CFD064DA7.e.38\")>, <selenium.webdriver.remote.webelement.WebElement (session=\"b5e7ab72423d1b033c6510837306f028\", element=\"f.3532675A1D7777062756688F0A42B5B1.d.DC2FCF7D4EC1247FFE77B48CFD064DA7.e.39\")>, <selenium.webdriver.remote.webelement.WebElement (session=\"b5e7ab72423d1b033c6510837306f028\", element=\"f.3532675A1D7777062756688F0A42B5B1.d.DC2FCF7D4EC1247FFE77B48CFD064DA7.e.40\")>, <selenium.webdriver.remote.webelement.WebElement (session=\"b5e7ab72423d1b033c6510837306f028\", element=\"f.3532675A1D7777062756688F0A42B5B1.d.DC2FCF7D4EC1247FFE77B48CFD064DA7.e.41\")>, <selenium.webdriver.remote.webelement.WebElement (session=\"b5e7ab72423d1b033c6510837306f028\", element=\"f.3532675A1D7777062756688F0A42B5B1.d.DC2FCF7D4EC1247FFE77B48CFD064DA7.e.42\")>, <selenium.webdriver.remote.webelement.WebElement (session=\"b5e7ab72423d1b033c6510837306f028\", element=\"f.3532675A1D7777062756688F0A42B5B1.d.DC2FCF7D4EC1247FFE77B48CFD064DA7.e.43\")>, <selenium.webdriver.remote.webelement.WebElement (session=\"b5e7ab72423d1b033c6510837306f028\", element=\"f.3532675A1D7777062756688F0A42B5B1.d.DC2FCF7D4EC1247FFE77B48CFD064DA7.e.44\")>, <selenium.webdriver.remote.webelement.WebElement (session=\"b5e7ab72423d1b033c6510837306f028\", element=\"f.3532675A1D7777062756688F0A42B5B1.d.DC2FCF7D4EC1247FFE77B48CFD064DA7.e.45\")>, <selenium.webdriver.remote.webelement.WebElement (session=\"b5e7ab72423d1b033c6510837306f028\", element=\"f.3532675A1D7777062756688F0A42B5B1.d.DC2FCF7D4EC1247FFE77B48CFD064DA7.e.46\")>, <selenium.webdriver.remote.webelement.WebElement (session=\"b5e7ab72423d1b033c6510837306f028\", element=\"f.3532675A1D7777062756688F0A42B5B1.d.DC2FCF7D4EC1247FFE77B48CFD064DA7.e.47\")>, <selenium.webdriver.remote.webelement.WebElement (session=\"b5e7ab72423d1b033c6510837306f028\", element=\"f.3532675A1D7777062756688F0A42B5B1.d.DC2FCF7D4EC1247FFE77B48CFD064DA7.e.48\")>, <selenium.webdriver.remote.webelement.WebElement (session=\"b5e7ab72423d1b033c6510837306f028\", element=\"f.3532675A1D7777062756688F0A42B5B1.d.DC2FCF7D4EC1247FFE77B48CFD064DA7.e.49\")>, <selenium.webdriver.remote.webelement.WebElement (session=\"b5e7ab72423d1b033c6510837306f028\", element=\"f.3532675A1D7777062756688F0A42B5B1.d.DC2FCF7D4EC1247FFE77B48CFD064DA7.e.50\")>, <selenium.webdriver.remote.webelement.WebElement (session=\"b5e7ab72423d1b033c6510837306f028\", element=\"f.3532675A1D7777062756688F0A42B5B1.d.DC2FCF7D4EC1247FFE77B48CFD064DA7.e.51\")>, <selenium.webdriver.remote.webelement.WebElement (session=\"b5e7ab72423d1b033c6510837306f028\", element=\"f.3532675A1D7777062756688F0A42B5B1.d.DC2FCF7D4EC1247FFE77B48CFD064DA7.e.52\")>]\n"
     ]
    }
   ],
   "source": [
    "courses_section = driver.find_elements(By.CLASS_NAME, 'map-title')\n",
    "print(courses_section)"
   ]
  },
  {
   "cell_type": "code",
   "execution_count": 54,
   "metadata": {},
   "outputs": [],
   "source": [
    "courses_section[0].click() # Dropdown section button"
   ]
  },
  {
   "cell_type": "code",
   "execution_count": 19,
   "metadata": {},
   "outputs": [],
   "source": [
    "start_project_button = driver.find_elements(By.CLASS_NAME, 'btn-sm') # Start Project Button"
   ]
  },
  {
   "cell_type": "code",
   "execution_count": 20,
   "metadata": {},
   "outputs": [],
   "source": [
    "start_project_button[0].click()"
   ]
  },
  {
   "cell_type": "code",
   "execution_count": 21,
   "metadata": {},
   "outputs": [],
   "source": [
    "start_coding_button = driver.find_element(By.XPATH, '//*[@id=\"headlessui-dialog-panel-2\"]/div[3]/button')\n",
    "start_coding_button.click()"
   ]
  },
  {
   "cell_type": "code",
   "execution_count": 22,
   "metadata": {},
   "outputs": [],
   "source": [
    "challenge_description_class = 'description-container'\n",
    "challenge_description = driver.find_element(By.CLASS_NAME, challenge_description_class)"
   ]
  },
  {
   "cell_type": "code",
   "execution_count": 24,
   "metadata": {},
   "outputs": [
    {
     "name": "stdout",
     "output_type": "stream",
     "text": [
      "Step 1\n",
      "HTML elements have an opening and closing tag with content in between.\n",
      "Here is the basic syntax:\n",
      "Example Code\n",
      "<openingTag>content</closingTag>\n",
      "The first element you will learn about is the h1 element. The h1 element is a heading element and is used for the main heading of a webpage.\n",
      "Example Code\n",
      "<h1>This is a main heading</h1>\n"
     ]
    }
   ],
   "source": [
    "print(challenge_description.text)"
   ]
  },
  {
   "cell_type": "code",
   "execution_count": 30,
   "metadata": {},
   "outputs": [],
   "source": [
    "with open(\"challenge_description.txt\", 'w+') as f:\n",
    "    f.write(challenge_description.text)"
   ]
  },
  {
   "cell_type": "code",
   "execution_count": 45,
   "metadata": {},
   "outputs": [],
   "source": [
    "VIEW_LINE_CLASS = 'view-line'\n",
    "element = driver.find_element(By.CLASS_NAME, VIEW_LINE_CLASS)\n",
    "element.click()\n"
   ]
  },
  {
   "cell_type": "code",
   "execution_count": 46,
   "metadata": {},
   "outputs": [],
   "source": [
    "pyautogui.hotkey('ctrl', 'a')"
   ]
  },
  {
   "cell_type": "code",
   "execution_count": null,
   "metadata": {},
   "outputs": [],
   "source": []
  }
 ],
 "metadata": {
  "kernelspec": {
   "display_name": "venv",
   "language": "python",
   "name": "python3"
  },
  "language_info": {
   "codemirror_mode": {
    "name": "ipython",
    "version": 3
   },
   "file_extension": ".py",
   "mimetype": "text/x-python",
   "name": "python",
   "nbconvert_exporter": "python",
   "pygments_lexer": "ipython3",
   "version": "3.9.0"
  }
 },
 "nbformat": 4,
 "nbformat_minor": 2
}
